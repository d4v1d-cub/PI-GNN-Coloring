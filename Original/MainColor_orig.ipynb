{
 "cells": [
  {
   "cell_type": "code",
   "execution_count": null,
   "id": "5a3cea2a",
   "metadata": {},
   "outputs": [],
   "source": [
    "from IPython.display import HTML #Make all more readable \n",
    "HTML(\"<style>.container { width:100%;}</style>\")"
   ]
  },
  {
   "cell_type": "code",
   "execution_count": null,
   "id": "757c2100",
   "metadata": {},
   "outputs": [],
   "source": [
    "import random\n",
    "import torch\n",
    "import warnings\n",
    "import numpy as np\n",
    "import networkx as nx\n",
    "import os\n",
    "import dgl\n",
    "\n",
    "from time import time"
   ]
  },
  {
   "cell_type": "code",
   "execution_count": null,
   "id": "9a1c4951",
   "metadata": {},
   "outputs": [],
   "source": [
    "# local imports: we load a few general utility functions from `minimal_utils.py`.\n",
    "\n",
    "from Utils_orig import(get_adjacency_matrix, saver, plotter, plotter_g, get_gnn, \n",
    "                      loss_func_color_hard, run_gnn_training, SyntheticDataset, chromatic_numbers)"
   ]
  },
  {
   "cell_type": "code",
   "execution_count": null,
   "id": "20a2eb9b",
   "metadata": {},
   "outputs": [],
   "source": [
    "# fix seed to ensure consistent results\n",
    "SEED_VALUE = 0\n",
    "random.seed(SEED_VALUE)        # seed python RNG\n",
    "np.random.seed(SEED_VALUE)     # seed global NumPy RNG\n",
    "torch.manual_seed(SEED_VALUE)  # seed torch RNG\n",
    "\n",
    "# Set GPU/CPU\n",
    "TORCH_DEVICE = torch.device('cuda' if torch.cuda.is_available() else 'cpu')\n",
    "TORCH_DTYPE = torch.float32\n",
    "print(f'Will use device: {TORCH_DEVICE}, torch dtype: {TORCH_DTYPE}')"
   ]
  },
  {
   "cell_type": "code",
   "execution_count": null,
   "id": "876d7def",
   "metadata": {},
   "outputs": [],
   "source": [
    "# Specify the problem instance to solve and where to find the dataset(s) here:\n",
    "TrPath=\"./data/input/COLOR/instances\"\n",
    "n_data=200\n",
    "data_train = SyntheticDataset(TrPath, n_data)\n",
    "print('Dataset pronto\\n')"
   ]
  },
  {
   "cell_type": "code",
   "execution_count": null,
   "id": "025e1217",
   "metadata": {},
   "outputs": [],
   "source": [
    "print(data_train.graphs[0].edges()[0].size())"
   ]
  },
  {
   "cell_type": "code",
   "execution_count": null,
   "id": "48a600a6",
   "metadata": {},
   "outputs": [],
   "source": [
    "dict_graphs={data_train.fnames[i] : [data_train.graphs[i], data_train.nxgraphs[i]] for i in range(len(data_train.nxgraphs))}\n",
    "#print(dict_graphs['myciel3.col'][1])"
   ]
  },
  {
   "cell_type": "code",
   "execution_count": null,
   "id": "c4aa19cd",
   "metadata": {},
   "outputs": [],
   "source": [
    "# Sample hyperparameters\n",
    "if TORCH_DEVICE.type == 'cpu':  # example with CPU\n",
    "    hypers = {\n",
    "        'model': 'GraphConv',   # set either with 'GraphConv' or 'GraphSAGE'. It cannot take other input\n",
    "        'dim_embedding': 64,\n",
    "        'dropout': 0.1,\n",
    "        'learning_rate': 0.0001,\n",
    "        'hidden_dim': 64,\n",
    "        'seed': SEED_VALUE\n",
    "    }\n",
    "else:                           # example with GPU\n",
    "    hypers = {\n",
    "        'model': 'GraphSAGE',\n",
    "        'dim_embedding': 77,\n",
    "        'dropout': 0.3784,\n",
    "        'learning_rate': 0.02988,\n",
    "        'hidden_dim': 32,\n",
    "        'seed': SEED_VALUE\n",
    "    }\n",
    "import matplotlib.pyplot as plt\n",
    "plt.rcParams['figure.figsize']=[16.0,9.0]\n",
    "plt.rcParams['figure.dpi']=300"
   ]
  },
  {
   "cell_type": "code",
   "execution_count": null,
   "id": "21680691",
   "metadata": {},
   "outputs": [],
   "source": [
    "torch.set_printoptions(threshold=3705,linewidth=160)"
   ]
  },
  {
   "cell_type": "code",
   "execution_count": null,
   "id": "238cfb68",
   "metadata": {},
   "outputs": [],
   "source": [
    "probs=[]\n",
    "best_colorings=[]\n",
    "best_losses=[] \n",
    "final_colorings=[] \n",
    "final_losses=[] \n",
    "epoch_nums = []\n",
    "names=[]\n",
    "lossesses=[]\n",
    "hard_lossesses=[]\n",
    "chromss=[]"
   ]
  },
  {
   "cell_type": "code",
   "execution_count": null,
   "id": "042cc7d3",
   "metadata": {
    "scrolled": true
   },
   "outputs": [],
   "source": [
    "# Retrieve known optimizer hypers\n",
    "opt_hypers = {\n",
    "    'lr': hypers.get('learning_rate', None)\n",
    "}\n",
    "\n",
    "t_start = time()\n",
    "for i in range(len(data_train)):\n",
    "    try:\n",
    "        # Default meta parameters\n",
    "        solver_hypers = {\n",
    "            'tolerance': 1e-3,           # Loss must change by more than tolerance, or add towards patience count\n",
    "            'number_epochs': int(1e5),   # Max number training steps\n",
    "            'patience': 10000,             # Number early stopping triggers before breaking loop\n",
    "            'graph_file': data_train.fnames[i],  # Which problem is being solved\n",
    "            'layer_agg_type': 'mean',    # How aggregate neighbors sampled within graphSAGE\n",
    "            'number_classes': chromatic_numbers[data_train.fnames[i]]#data_train.GetChrom(i)#\n",
    "        }\n",
    "\n",
    "        # Combine into a single set\n",
    "        hypers.update(solver_hypers)\n",
    "\n",
    "        # Get adjacency matrix for use in calculations\n",
    "        adj_ = get_adjacency_matrix(data_train.nxgraphs[i], TORCH_DEVICE, TORCH_DTYPE)\n",
    "\n",
    "        # See minimal_utils.py for description. Constructs GNN and optimizer objects from given hypers. \n",
    "        # Initializes embedding layer to use as initial model input\n",
    "        net, embed, optimizer = get_gnn(data_train.fnames[i],data_train.graphs[i], data_train.nxgraphs[i].number_of_nodes(), hypers, opt_hypers, TORCH_DEVICE, TORCH_DTYPE)\n",
    "\n",
    "        #print(len(nx_graph.nodes()))\n",
    "        name,losses,hard_losses,chroms, prob,best_coloring,best_loss,final_coloring,final_loss,epoch_num = run_gnn_training(\n",
    "            hypers['graph_file'], data_train.nxgraphs[i], data_train.graphs[i], adj_, net, embed, \n",
    "            optimizer, hypers['number_epochs'], hypers['patience'], hypers['tolerance'], seed=SEED_VALUE)\n",
    "        names.append(name) #all this cuz sometimes can't be processesd by net and triggers exception, cuzing different lengths.\n",
    "        probs.append(prob)\n",
    "        lossesses.append(losses)\n",
    "        hard_lossesses.append(hard_losses)\n",
    "        chromss.append(chroms)\n",
    "        best_colorings.append(best_coloring)\n",
    "        best_losses.append(best_loss)\n",
    "        final_colorings.append(final_coloring)\n",
    "        final_losses.append(final_loss)\n",
    "        epoch_nums.append(epoch_num)\n",
    "\n",
    "        runtime_gnn = round(time() - t_start, 4)\n",
    "\n",
    "        # report results\n",
    "        print(f'GNN runtime: {runtime_gnn}s')\n",
    "    except IndexError:\n",
    "        print(f'index error for graph {data_train.fnames[i]}')"
   ]
  },
  {
   "cell_type": "code",
   "execution_count": null,
   "id": "dd8bcb18",
   "metadata": {},
   "outputs": [],
   "source": [
    "for i in range(len(names)):\n",
    "    saver(lossesses[i], names[i], 'loss', hard_lossesses[i])\n",
    "    saver(chromss[i], names[i], 'chroma')\n",
    "    saver(best_colorings[i], names[i], 'coloring', final_colorings[i])\n",
    "    plotter(names[i], len(dict_graphs[names[i]][0].nodes()),min(hard_lossesses[i]),best_losses[i]) #2nd entry is n_nodes.\n",
    "    plotter_g(names[i], graph=dict_graphs[names[i]][1]) #[0] indicates nxgraph, [1] would indicate gdlgraph"
   ]
  },
  {
   "cell_type": "code",
   "execution_count": null,
   "id": "c7e4f1d6",
   "metadata": {},
   "outputs": [],
   "source": [
    "# check for color violations\n",
    "best_cost_hard = loss_func_color_hard(best_coloring, nx_graph)\n",
    "\n",
    "print(f'Best (hard) cost of coloring (n_class={hypers[\"number_classes\"]}): {best_cost_hard}')"
   ]
  },
  {
   "cell_type": "code",
   "execution_count": null,
   "id": "c6f56486",
   "metadata": {},
   "outputs": [],
   "source": [
    "plotter_g('games120.col', graph=dict_graphs['games120.col'][1]) #[0] indicates nxgraph, [1] would indicate gdlgraph"
   ]
  }
 ],
 "metadata": {
  "kernelspec": {
   "display_name": "Python 3",
   "language": "python",
   "name": "python3"
  },
  "language_info": {
   "codemirror_mode": {
    "name": "ipython",
    "version": 3
   },
   "file_extension": ".py",
   "mimetype": "text/x-python",
   "name": "python",
   "nbconvert_exporter": "python",
   "pygments_lexer": "ipython3",
   "version": "3.9.7"
  }
 },
 "nbformat": 4,
 "nbformat_minor": 5
}
