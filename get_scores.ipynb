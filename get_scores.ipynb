{
 "cells": [
  {
   "cell_type": "code",
   "execution_count": 1,
   "metadata": {},
   "outputs": [],
   "source": [
    "import pandas as pd\n",
    "from numpy import sqrt"
   ]
  },
  {
   "cell_type": "code",
   "execution_count": 2,
   "metadata": {},
   "outputs": [],
   "source": [
    "def read_data(path, filename, nmin, nmax, m_min, m_max):\n",
    "    df = pd.read_csv(path + \"/\" + filename)\n",
    "    df = df[(df['N'] >= nmin) & (df['N'] <= nmax)]\n",
    "    \n",
    "    # Create a mask for all conditions at once\n",
    "    mask = ( (df['M'] >= df['N'].map(m_min)) & (df['M'] <= df['N'].map(m_max)) )\n",
    "    \n",
    "    return df[mask]\n"
   ]
  },
  {
   "cell_type": "code",
   "execution_count": 3,
   "metadata": {},
   "outputs": [],
   "source": [
    "def compute_average_energy(df):\n",
    "    df_ns = df[df['E'] > 0].astype({'E': 'float64'})\n",
    "    df_ns.loc[:, 'E'] = df_ns['E'] / df_ns['M']\n",
    "    return df_ns['E'].mean(), sqrt(df_ns['E'].pow(2).mean() - df_ns['E'].mean() * df_ns['E'].mean()), df_ns['E'].std(ddof=0)"
   ]
  },
  {
   "cell_type": "code",
   "execution_count": 4,
   "metadata": {},
   "outputs": [],
   "source": [
    "def check_missing(df, nsamples):\n",
    "    for N in df['N'].unique():\n",
    "        for M in df[df['N'] == N]['M'].unique():\n",
    "            for i in range(1, nsamples + 1):\n",
    "                if i not in df[df['M'] == M]['id'].values:\n",
    "                    print(f\"Missing sample: N={N}, M={M}, c={M/N*2}, i={i}\")"
   ]
  },
  {
   "cell_type": "markdown",
   "metadata": {},
   "source": [
    "# 3-COL"
   ]
  },
  {
   "cell_type": "markdown",
   "metadata": {},
   "source": [
    "Reading data"
   ]
  },
  {
   "cell_type": "code",
   "execution_count": 6,
   "metadata": {},
   "outputs": [],
   "source": [
    "path = \"/media/david/Data/UH/Grupo_de_investigacion/Hard_benchmarks/Coloring/PI-GNN/Results/Recurrent/random_graphs/Mixed/q_3/Stats\"\n",
    "exp_min = 4\n",
    "exp_max = 8\n",
    "cmin = 3.32\n",
    "cmax = 4.96\n",
    "nmin = 2 ** exp_min\n",
    "nmax = 2 ** exp_max\n",
    "m_min = {}\n",
    "m_max = {}\n",
    "for exp in range(exp_min, exp_max + 1):\n",
    "    m_min[2 ** exp] = int(round(2 ** exp * cmin / 2))\n",
    "    m_max[2 ** exp] = int(round(2 ** exp * cmax / 2))"
   ]
  },
  {
   "cell_type": "markdown",
   "metadata": {},
   "source": [
    "Getting the number of solutions found between $N_{min}$ and $N_{max}$"
   ]
  },
  {
   "cell_type": "code",
   "execution_count": 7,
   "metadata": {},
   "outputs": [
    {
     "data": {
      "text/plain": [
       "(11236, 20000, 0.5618)"
      ]
     },
     "execution_count": 7,
     "metadata": {},
     "output_type": "execute_result"
    }
   ],
   "source": [
    "filename = \"3COL_rPI-GNN_ntrials=5.csv\"\n",
    "df3 = read_data(path, filename, nmin, nmax, m_min, m_max)\n",
    "(df3['E'] == 0).sum(), df3.shape[0], (df3['E'] == 0).sum() / df3.shape[0]"
   ]
  },
  {
   "cell_type": "code",
   "execution_count": 8,
   "metadata": {},
   "outputs": [
    {
     "data": {
      "text/plain": [
       "(10868, 20000, 0.5434)"
      ]
     },
     "execution_count": 8,
     "metadata": {},
     "output_type": "execute_result"
    }
   ],
   "source": [
    "filename = \"3COL_rPI-GNN_ntrials=5_new.csv\"\n",
    "df3 = read_data(path, filename, nmin, nmax, m_min, m_max)\n",
    "(df3['E'] == 0).sum(), df3.shape[0], (df3['E'] == 0).sum() / df3.shape[0]"
   ]
  },
  {
   "cell_type": "code",
   "execution_count": 9,
   "metadata": {},
   "outputs": [
    {
     "data": {
      "text/plain": [
       "(0.019204459936798965, 0.015796964701764074, 0.015796964701764074)"
      ]
     },
     "execution_count": 9,
     "metadata": {},
     "output_type": "execute_result"
    }
   ],
   "source": [
    "filename = \"3COL_rPI-GNN_ntrials=5.csv\"\n",
    "df3 = read_data(path, filename, nmin, nmax, m_min, m_max)\n",
    "compute_average_energy(df3)"
   ]
  },
  {
   "cell_type": "code",
   "execution_count": 10,
   "metadata": {},
   "outputs": [
    {
     "data": {
      "text/plain": [
       "(0.019037831537714354, 0.015873303995541446, 0.015873303995541446)"
      ]
     },
     "execution_count": 10,
     "metadata": {},
     "output_type": "execute_result"
    }
   ],
   "source": [
    "filename = \"3COL_rPI-GNN_ntrials=5_new.csv\"\n",
    "df3 = read_data(path, filename, nmin, nmax, m_min, m_max)\n",
    "compute_average_energy(df3)"
   ]
  },
  {
   "cell_type": "code",
   "execution_count": 10,
   "metadata": {},
   "outputs": [],
   "source": [
    "check_missing(df3, 400)"
   ]
  },
  {
   "cell_type": "markdown",
   "metadata": {},
   "source": [
    "# 5-COL"
   ]
  },
  {
   "cell_type": "markdown",
   "metadata": {},
   "source": [
    "Reading data"
   ]
  },
  {
   "cell_type": "code",
   "execution_count": 11,
   "metadata": {},
   "outputs": [],
   "source": [
    "path = \"/media/david/Data/UH/Grupo_de_investigacion/Hard_benchmarks/Coloring/PI-GNN/Results/Recurrent/random_graphs/Mixed/q_5/Stats\"\n",
    "exp_min = 4\n",
    "exp_max = 8\n",
    "cmin = 9.9\n",
    "cmax = 13.5\n",
    "nmin = 2 ** exp_min\n",
    "nmax = 2 ** exp_max\n",
    "m_min = {}\n",
    "m_max = {}\n",
    "for exp in range(exp_min, exp_max + 1):\n",
    "    m_min[2 ** exp] = int(round(2 ** exp * cmin / 2))\n",
    "    m_max[2 ** exp] = int(round(2 ** exp * cmax / 2))"
   ]
  },
  {
   "cell_type": "markdown",
   "metadata": {},
   "source": [
    "Getting the number of solutions found between $N_{min}$ and $N_{max}$"
   ]
  },
  {
   "cell_type": "code",
   "execution_count": 12,
   "metadata": {},
   "outputs": [
    {
     "data": {
      "text/plain": [
       "(7697, 20000, 0.38485)"
      ]
     },
     "execution_count": 12,
     "metadata": {},
     "output_type": "execute_result"
    }
   ],
   "source": [
    "filename = \"5COL_rPI-GNN_ntrials=5.csv\"\n",
    "df5 = read_data(path, filename, nmin, nmax, m_min, m_max)\n",
    "(df5['E'] == 0).sum(), df5.shape[0], (df5['E'] == 0).sum() / df5.shape[0]"
   ]
  },
  {
   "cell_type": "code",
   "execution_count": 13,
   "metadata": {},
   "outputs": [
    {
     "data": {
      "text/plain": [
       "(6724, 20000, 0.3362)"
      ]
     },
     "execution_count": 13,
     "metadata": {},
     "output_type": "execute_result"
    }
   ],
   "source": [
    "filename = \"5COL_rPI-GNN_ntrials=5_new.csv\"\n",
    "df5 = read_data(path, filename, nmin, nmax, m_min, m_max)\n",
    "(df5['E'] == 0).sum(), df5.shape[0], (df5['E'] == 0).sum() / df5.shape[0]"
   ]
  },
  {
   "cell_type": "code",
   "execution_count": 14,
   "metadata": {},
   "outputs": [
    {
     "data": {
      "text/plain": [
       "(0.02312624542240631, 0.0248316442217488, 0.0248316442217488)"
      ]
     },
     "execution_count": 14,
     "metadata": {},
     "output_type": "execute_result"
    }
   ],
   "source": [
    "filename = \"5COL_rPI-GNN_ntrials=5_new.csv\"\n",
    "df5 = read_data(path, filename, nmin, nmax, m_min, m_max)\n",
    "compute_average_energy(df5)"
   ]
  },
  {
   "cell_type": "code",
   "execution_count": 15,
   "metadata": {},
   "outputs": [
    {
     "data": {
      "text/plain": [
       "(0.023751781780938234, 0.025344023142034572, 0.025344023142034572)"
      ]
     },
     "execution_count": 15,
     "metadata": {},
     "output_type": "execute_result"
    }
   ],
   "source": [
    "filename = \"5COL_rPI-GNN_ntrials=5.csv\"\n",
    "df5 = read_data(path, filename, nmin, nmax, m_min, m_max)\n",
    "compute_average_energy(df5)"
   ]
  },
  {
   "cell_type": "code",
   "execution_count": 15,
   "metadata": {},
   "outputs": [],
   "source": [
    "check_missing(df5, 400)"
   ]
  }
 ],
 "metadata": {
  "kernelspec": {
   "display_name": "sat",
   "language": "python",
   "name": "python3"
  },
  "language_info": {
   "codemirror_mode": {
    "name": "ipython",
    "version": 3
   },
   "file_extension": ".py",
   "mimetype": "text/x-python",
   "name": "python",
   "nbconvert_exporter": "python",
   "pygments_lexer": "ipython3",
   "version": "3.9.7"
  }
 },
 "nbformat": 4,
 "nbformat_minor": 2
}
